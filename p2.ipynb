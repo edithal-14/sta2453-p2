{
 "cells": [
  {
   "cell_type": "code",
   "execution_count": 1,
   "metadata": {},
   "outputs": [],
   "source": [
    "from collections import defaultdict\n",
    "import pandas as pd\n",
    "import matplotlib.pyplot as plt\n",
    "import numpy as np\n",
    "import seaborn as sns\n",
    "from sklearn.cluster import DBSCAN, OPTICS\n",
    "from sklearn.ensemble import RandomForestRegressor, RandomForestClassifier\n",
    "from sklearn.metrics import mean_squared_error\n",
    "from sklearn.metrics import classification_report\n",
    "from sklearn.model_selection import GridSearchCV, cross_val_predict\n",
    "from sklearn.metrics.pairwise import haversine_distances\n",
    "from xgboost import XGBRegressor\n",
    "from sdv.tabular import CTGAN\n",
    "from sdv.evaluation import evaluate\n",
    "from sdv.sampling import Condition\n",
    "from sklearn.mixture import GaussianMixture"
   ]
  },
  {
   "attachments": {},
   "cell_type": "markdown",
   "metadata": {},
   "source": [
    "### Pre-processing"
   ]
  },
  {
   "cell_type": "code",
   "execution_count": 2,
   "metadata": {},
   "outputs": [
    {
     "data": {
      "text/html": [
       "<div>\n",
       "<style scoped>\n",
       "    .dataframe tbody tr th:only-of-type {\n",
       "        vertical-align: middle;\n",
       "    }\n",
       "\n",
       "    .dataframe tbody tr th {\n",
       "        vertical-align: top;\n",
       "    }\n",
       "\n",
       "    .dataframe thead th {\n",
       "        text-align: right;\n",
       "    }\n",
       "</style>\n",
       "<table border=\"1\" class=\"dataframe\">\n",
       "  <thead>\n",
       "    <tr style=\"text-align: right;\">\n",
       "      <th></th>\n",
       "      <th>BusinessID</th>\n",
       "      <th>ClaimAmount</th>\n",
       "    </tr>\n",
       "  </thead>\n",
       "  <tbody>\n",
       "    <tr>\n",
       "      <th>0</th>\n",
       "      <td>00006A45</td>\n",
       "      <td>277674.57</td>\n",
       "    </tr>\n",
       "    <tr>\n",
       "      <th>1</th>\n",
       "      <td>00007A94</td>\n",
       "      <td>139775.41</td>\n",
       "    </tr>\n",
       "    <tr>\n",
       "      <th>2</th>\n",
       "      <td>0002A104</td>\n",
       "      <td>376145.26</td>\n",
       "    </tr>\n",
       "    <tr>\n",
       "      <th>3</th>\n",
       "      <td>0003A113</td>\n",
       "      <td>86434.20</td>\n",
       "    </tr>\n",
       "    <tr>\n",
       "      <th>4</th>\n",
       "      <td>0005A152</td>\n",
       "      <td>218156.43</td>\n",
       "    </tr>\n",
       "    <tr>\n",
       "      <th>...</th>\n",
       "      <td>...</td>\n",
       "      <td>...</td>\n",
       "    </tr>\n",
       "    <tr>\n",
       "      <th>8668</th>\n",
       "      <td>3A249916</td>\n",
       "      <td>469764.04</td>\n",
       "    </tr>\n",
       "    <tr>\n",
       "      <th>8669</th>\n",
       "      <td>0A249934</td>\n",
       "      <td>60665.72</td>\n",
       "    </tr>\n",
       "    <tr>\n",
       "      <th>8670</th>\n",
       "      <td>0A249935</td>\n",
       "      <td>235096.44</td>\n",
       "    </tr>\n",
       "    <tr>\n",
       "      <th>8671</th>\n",
       "      <td>6A249979</td>\n",
       "      <td>187283.83</td>\n",
       "    </tr>\n",
       "    <tr>\n",
       "      <th>8672</th>\n",
       "      <td>9A249983</td>\n",
       "      <td>259094.92</td>\n",
       "    </tr>\n",
       "  </tbody>\n",
       "</table>\n",
       "<p>8673 rows × 2 columns</p>\n",
       "</div>"
      ],
      "text/plain": [
       "     BusinessID  ClaimAmount\n",
       "0      00006A45    277674.57\n",
       "1      00007A94    139775.41\n",
       "2      0002A104    376145.26\n",
       "3      0003A113     86434.20\n",
       "4      0005A152    218156.43\n",
       "...         ...          ...\n",
       "8668   3A249916    469764.04\n",
       "8669   0A249934     60665.72\n",
       "8670   0A249935    235096.44\n",
       "8671   6A249979    187283.83\n",
       "8672   9A249983    259094.92\n",
       "\n",
       "[8673 rows x 2 columns]"
      ]
     },
     "execution_count": 2,
     "metadata": {},
     "output_type": "execute_result"
    }
   ],
   "source": [
    "claims_df = pd.read_csv(\"AFC_claims.csv\")\n",
    "# Dollars should be rounded to 2 decimals\n",
    "claims_df[\"ClaimAmount\"] = claims_df.ClaimAmount.round(2)\n",
    "claims_df"
   ]
  },
  {
   "cell_type": "code",
   "execution_count": 3,
   "metadata": {},
   "outputs": [
    {
     "data": {
      "text/html": [
       "<div>\n",
       "<style scoped>\n",
       "    .dataframe tbody tr th:only-of-type {\n",
       "        vertical-align: middle;\n",
       "    }\n",
       "\n",
       "    .dataframe tbody tr th {\n",
       "        vertical-align: top;\n",
       "    }\n",
       "\n",
       "    .dataframe thead th {\n",
       "        text-align: right;\n",
       "    }\n",
       "</style>\n",
       "<table border=\"1\" class=\"dataframe\">\n",
       "  <thead>\n",
       "    <tr style=\"text-align: right;\">\n",
       "      <th></th>\n",
       "      <th>BusinessID</th>\n",
       "      <th>BusinessType</th>\n",
       "      <th>Province</th>\n",
       "      <th>Latitude</th>\n",
       "      <th>Longitude</th>\n",
       "      <th>City</th>\n",
       "      <th>AmountOfInsurance</th>\n",
       "      <th>Earnings</th>\n",
       "    </tr>\n",
       "  </thead>\n",
       "  <tbody>\n",
       "    <tr>\n",
       "      <th>0</th>\n",
       "      <td>000002A1</td>\n",
       "      <td>photographic studios</td>\n",
       "      <td>ON</td>\n",
       "      <td>45.09</td>\n",
       "      <td>-79.45</td>\n",
       "      <td>BRACEBRIDGE</td>\n",
       "      <td>416800.0</td>\n",
       "      <td>98000.0</td>\n",
       "    </tr>\n",
       "    <tr>\n",
       "      <th>1</th>\n",
       "      <td>000000A2</td>\n",
       "      <td>massage therapists</td>\n",
       "      <td>QC</td>\n",
       "      <td>46.78</td>\n",
       "      <td>-71.26</td>\n",
       "      <td>QUEBEC</td>\n",
       "      <td>904600.0</td>\n",
       "      <td>406000.0</td>\n",
       "    </tr>\n",
       "    <tr>\n",
       "      <th>2</th>\n",
       "      <td>000004A3</td>\n",
       "      <td>lawyers offices</td>\n",
       "      <td>ON</td>\n",
       "      <td>46.52</td>\n",
       "      <td>-84.33</td>\n",
       "      <td>SAULT STE. MARIE</td>\n",
       "      <td>883300.0</td>\n",
       "      <td>157000.0</td>\n",
       "    </tr>\n",
       "    <tr>\n",
       "      <th>3</th>\n",
       "      <td>000005A4</td>\n",
       "      <td>optometrists offices</td>\n",
       "      <td>QC</td>\n",
       "      <td>45.56</td>\n",
       "      <td>-73.85</td>\n",
       "      <td>LAVAL</td>\n",
       "      <td>263400.0</td>\n",
       "      <td>86000.0</td>\n",
       "    </tr>\n",
       "    <tr>\n",
       "      <th>4</th>\n",
       "      <td>000001A5</td>\n",
       "      <td>chiropractors' offices</td>\n",
       "      <td>ON</td>\n",
       "      <td>43.14</td>\n",
       "      <td>-82.06</td>\n",
       "      <td>FOREST</td>\n",
       "      <td>706500.0</td>\n",
       "      <td>231000.0</td>\n",
       "    </tr>\n",
       "    <tr>\n",
       "      <th>...</th>\n",
       "      <td>...</td>\n",
       "      <td>...</td>\n",
       "      <td>...</td>\n",
       "      <td>...</td>\n",
       "      <td>...</td>\n",
       "      <td>...</td>\n",
       "      <td>...</td>\n",
       "      <td>...</td>\n",
       "    </tr>\n",
       "    <tr>\n",
       "      <th>249995</th>\n",
       "      <td>1A249996</td>\n",
       "      <td>photographic studios</td>\n",
       "      <td>QC</td>\n",
       "      <td>45.45</td>\n",
       "      <td>-73.81</td>\n",
       "      <td>POINTE-CLAIRE</td>\n",
       "      <td>440300.0</td>\n",
       "      <td>293000.0</td>\n",
       "    </tr>\n",
       "    <tr>\n",
       "      <th>249996</th>\n",
       "      <td>8A249997</td>\n",
       "      <td>automobile parking facilities</td>\n",
       "      <td>QC</td>\n",
       "      <td>45.44</td>\n",
       "      <td>-75.74</td>\n",
       "      <td>GATINEAU</td>\n",
       "      <td>661400.0</td>\n",
       "      <td>264000.0</td>\n",
       "    </tr>\n",
       "    <tr>\n",
       "      <th>249997</th>\n",
       "      <td>3A249998</td>\n",
       "      <td>arts and crafts stores</td>\n",
       "      <td>ON</td>\n",
       "      <td>43.22</td>\n",
       "      <td>-79.91</td>\n",
       "      <td>HAMILTON</td>\n",
       "      <td>443300.0</td>\n",
       "      <td>210000.0</td>\n",
       "    </tr>\n",
       "    <tr>\n",
       "      <th>249998</th>\n",
       "      <td>3A249999</td>\n",
       "      <td>yoga studios</td>\n",
       "      <td>ON</td>\n",
       "      <td>46.34</td>\n",
       "      <td>-79.47</td>\n",
       "      <td>NORTH BAY</td>\n",
       "      <td>780700.0</td>\n",
       "      <td>132000.0</td>\n",
       "    </tr>\n",
       "    <tr>\n",
       "      <th>249999</th>\n",
       "      <td>5A250000</td>\n",
       "      <td>automobile repair shops and oil change centers</td>\n",
       "      <td>QC</td>\n",
       "      <td>45.39</td>\n",
       "      <td>-75.80</td>\n",
       "      <td>GATINEAU</td>\n",
       "      <td>977700.0</td>\n",
       "      <td>237000.0</td>\n",
       "    </tr>\n",
       "  </tbody>\n",
       "</table>\n",
       "<p>250000 rows × 8 columns</p>\n",
       "</div>"
      ],
      "text/plain": [
       "       BusinessID                                    BusinessType Province  \\\n",
       "0        000002A1                            photographic studios       ON   \n",
       "1        000000A2                              massage therapists       QC   \n",
       "2        000004A3                                 lawyers offices       ON   \n",
       "3        000005A4                            optometrists offices       QC   \n",
       "4        000001A5                          chiropractors' offices       ON   \n",
       "...           ...                                             ...      ...   \n",
       "249995   1A249996                            photographic studios       QC   \n",
       "249996   8A249997                   automobile parking facilities       QC   \n",
       "249997   3A249998                          arts and crafts stores       ON   \n",
       "249998   3A249999                                    yoga studios       ON   \n",
       "249999   5A250000  automobile repair shops and oil change centers       QC   \n",
       "\n",
       "        Latitude  Longitude              City  AmountOfInsurance  Earnings  \n",
       "0          45.09     -79.45       BRACEBRIDGE           416800.0   98000.0  \n",
       "1          46.78     -71.26            QUEBEC           904600.0  406000.0  \n",
       "2          46.52     -84.33  SAULT STE. MARIE           883300.0  157000.0  \n",
       "3          45.56     -73.85             LAVAL           263400.0   86000.0  \n",
       "4          43.14     -82.06            FOREST           706500.0  231000.0  \n",
       "...          ...        ...               ...                ...       ...  \n",
       "249995     45.45     -73.81     POINTE-CLAIRE           440300.0  293000.0  \n",
       "249996     45.44     -75.74          GATINEAU           661400.0  264000.0  \n",
       "249997     43.22     -79.91          HAMILTON           443300.0  210000.0  \n",
       "249998     46.34     -79.47         NORTH BAY           780700.0  132000.0  \n",
       "249999     45.39     -75.80          GATINEAU           977700.0  237000.0  \n",
       "\n",
       "[250000 rows x 8 columns]"
      ]
     },
     "execution_count": 3,
     "metadata": {},
     "output_type": "execute_result"
    }
   ],
   "source": [
    "policies_df = pd.read_csv(\"AFC_policies.csv\")\n",
    "policies_df"
   ]
  },
  {
   "cell_type": "code",
   "execution_count": 4,
   "metadata": {},
   "outputs": [
    {
     "data": {
      "text/html": [
       "<div>\n",
       "<style scoped>\n",
       "    .dataframe tbody tr th:only-of-type {\n",
       "        vertical-align: middle;\n",
       "    }\n",
       "\n",
       "    .dataframe tbody tr th {\n",
       "        vertical-align: top;\n",
       "    }\n",
       "\n",
       "    .dataframe thead th {\n",
       "        text-align: right;\n",
       "    }\n",
       "</style>\n",
       "<table border=\"1\" class=\"dataframe\">\n",
       "  <thead>\n",
       "    <tr style=\"text-align: right;\">\n",
       "      <th></th>\n",
       "      <th>BusinessID</th>\n",
       "      <th>Latitude</th>\n",
       "      <th>Longitude</th>\n",
       "      <th>AmountOfInsurance</th>\n",
       "      <th>Earnings</th>\n",
       "      <th>BusinessTypeCode</th>\n",
       "      <th>AddressCode</th>\n",
       "    </tr>\n",
       "  </thead>\n",
       "  <tbody>\n",
       "    <tr>\n",
       "      <th>0</th>\n",
       "      <td>000002A1</td>\n",
       "      <td>45.09</td>\n",
       "      <td>-79.45</td>\n",
       "      <td>6.032606</td>\n",
       "      <td>4.584967</td>\n",
       "      <td>25</td>\n",
       "      <td>0</td>\n",
       "    </tr>\n",
       "    <tr>\n",
       "      <th>1</th>\n",
       "      <td>000000A2</td>\n",
       "      <td>46.78</td>\n",
       "      <td>-71.26</td>\n",
       "      <td>6.807493</td>\n",
       "      <td>6.006353</td>\n",
       "      <td>23</td>\n",
       "      <td>5</td>\n",
       "    </tr>\n",
       "    <tr>\n",
       "      <th>2</th>\n",
       "      <td>000004A3</td>\n",
       "      <td>46.52</td>\n",
       "      <td>-84.33</td>\n",
       "      <td>6.783665</td>\n",
       "      <td>5.056246</td>\n",
       "      <td>22</td>\n",
       "      <td>0</td>\n",
       "    </tr>\n",
       "    <tr>\n",
       "      <th>3</th>\n",
       "      <td>000005A4</td>\n",
       "      <td>45.56</td>\n",
       "      <td>-73.85</td>\n",
       "      <td>5.573674</td>\n",
       "      <td>4.454347</td>\n",
       "      <td>24</td>\n",
       "      <td>6</td>\n",
       "    </tr>\n",
       "    <tr>\n",
       "      <th>4</th>\n",
       "      <td>000001A5</td>\n",
       "      <td>43.14</td>\n",
       "      <td>-82.06</td>\n",
       "      <td>6.560323</td>\n",
       "      <td>5.442418</td>\n",
       "      <td>13</td>\n",
       "      <td>0</td>\n",
       "    </tr>\n",
       "    <tr>\n",
       "      <th>...</th>\n",
       "      <td>...</td>\n",
       "      <td>...</td>\n",
       "      <td>...</td>\n",
       "      <td>...</td>\n",
       "      <td>...</td>\n",
       "      <td>...</td>\n",
       "      <td>...</td>\n",
       "    </tr>\n",
       "    <tr>\n",
       "      <th>249995</th>\n",
       "      <td>1A249996</td>\n",
       "      <td>45.45</td>\n",
       "      <td>-73.81</td>\n",
       "      <td>6.087456</td>\n",
       "      <td>5.680173</td>\n",
       "      <td>25</td>\n",
       "      <td>0</td>\n",
       "    </tr>\n",
       "    <tr>\n",
       "      <th>249996</th>\n",
       "      <td>8A249997</td>\n",
       "      <td>45.44</td>\n",
       "      <td>-75.74</td>\n",
       "      <td>6.494359</td>\n",
       "      <td>5.575949</td>\n",
       "      <td>8</td>\n",
       "      <td>1</td>\n",
       "    </tr>\n",
       "    <tr>\n",
       "      <th>249997</th>\n",
       "      <td>3A249998</td>\n",
       "      <td>43.22</td>\n",
       "      <td>-79.91</td>\n",
       "      <td>6.094247</td>\n",
       "      <td>5.347108</td>\n",
       "      <td>3</td>\n",
       "      <td>0</td>\n",
       "    </tr>\n",
       "    <tr>\n",
       "      <th>249998</th>\n",
       "      <td>3A249999</td>\n",
       "      <td>46.34</td>\n",
       "      <td>-79.47</td>\n",
       "      <td>6.660191</td>\n",
       "      <td>4.882802</td>\n",
       "      <td>31</td>\n",
       "      <td>0</td>\n",
       "    </tr>\n",
       "    <tr>\n",
       "      <th>249999</th>\n",
       "      <td>5A250000</td>\n",
       "      <td>45.39</td>\n",
       "      <td>-75.80</td>\n",
       "      <td>6.885203</td>\n",
       "      <td>5.468060</td>\n",
       "      <td>9</td>\n",
       "      <td>1</td>\n",
       "    </tr>\n",
       "  </tbody>\n",
       "</table>\n",
       "<p>250000 rows × 7 columns</p>\n",
       "</div>"
      ],
      "text/plain": [
       "       BusinessID  Latitude  Longitude  AmountOfInsurance  Earnings  \\\n",
       "0        000002A1     45.09     -79.45           6.032606  4.584967   \n",
       "1        000000A2     46.78     -71.26           6.807493  6.006353   \n",
       "2        000004A3     46.52     -84.33           6.783665  5.056246   \n",
       "3        000005A4     45.56     -73.85           5.573674  4.454347   \n",
       "4        000001A5     43.14     -82.06           6.560323  5.442418   \n",
       "...           ...       ...        ...                ...       ...   \n",
       "249995   1A249996     45.45     -73.81           6.087456  5.680173   \n",
       "249996   8A249997     45.44     -75.74           6.494359  5.575949   \n",
       "249997   3A249998     43.22     -79.91           6.094247  5.347108   \n",
       "249998   3A249999     46.34     -79.47           6.660191  4.882802   \n",
       "249999   5A250000     45.39     -75.80           6.885203  5.468060   \n",
       "\n",
       "       BusinessTypeCode AddressCode  \n",
       "0                    25           0  \n",
       "1                    23           5  \n",
       "2                    22           0  \n",
       "3                    24           6  \n",
       "4                    13           0  \n",
       "...                 ...         ...  \n",
       "249995               25           0  \n",
       "249996                8           1  \n",
       "249997                3           0  \n",
       "249998               31           0  \n",
       "249999                9           1  \n",
       "\n",
       "[250000 rows x 7 columns]"
      ]
     },
     "execution_count": 4,
     "metadata": {},
     "output_type": "execute_result"
    }
   ],
   "source": [
    "# Merge Province and City into Address\n",
    "policies_df[\"Address\"] = policies_df.Province + \",\" + policies_df.City\n",
    "policies_df = policies_df.drop(columns=[\"Province\", \"City\"])\n",
    "\n",
    "# Set numerical features\n",
    "policies_df.AmountOfInsurance = policies_df.AmountOfInsurance.astype(\"int\")\n",
    "policies_df.Earnings = policies_df.Earnings.astype(\"int\")\n",
    "\n",
    "# Set categorical features\n",
    "policies_df.BusinessType = policies_df.BusinessType.astype(\"category\")\n",
    "policies_df.Address = policies_df.Address.astype(\"category\")\n",
    "\n",
    "# Select necessary columns for training and perform label encoding on categorical columns\n",
    "policies_df[\"BusinessTypeCode\"] = policies_df.BusinessType.cat.codes\n",
    "# Top 10 encoding, top 1 to 9 address codes are encoded 1 to 9, others are encoded 0\n",
    "top_addresses = list(policies_df.Address.cat.codes.value_counts().nlargest(9).index)\n",
    "top_addresses_dict = defaultdict(int)\n",
    "for idx, code in enumerate(top_addresses):\n",
    "    top_addresses_dict[code] = idx+1\n",
    "policies_df[\"AddressCode\"] = policies_df.Address.cat.codes.map(top_addresses_dict)\n",
    "policies_df = policies_df.drop(columns=[\"BusinessType\", \"Address\"])\n",
    "\n",
    "# Set categorical features\n",
    "policies_df.BusinessTypeCode = policies_df.BusinessTypeCode.astype(\"category\")\n",
    "policies_df.AddressCode = policies_df.AddressCode.astype(\"category\")\n",
    "\n",
    "# One hot encoding\n",
    "# business_codes = policies_df.BusinessTypeCode.copy()\n",
    "# policies_df = pd.get_dummies(policies_df, columns=[\"BusinessTypeCode\"])\n",
    "# policies_df[\"BusinessTypeCode\"] = business_codes\n",
    "\n",
    "# One hot encoding\n",
    "# address_codes = policies_df.AddressCode.copy()\n",
    "# policies_df = pd.get_dummies(policies_df, columns=[\"AddressCode\"])\n",
    "# policies_df[\"AddressCode\"] = address_codes\n",
    "# policies_df.AddressCode = policies_df.AddressCode.astype(np.int8)\n",
    "\n",
    "# Represent Earnings, AmountOfInsurance in 1000s of dollars, then take log to reduce skewness\n",
    "policies_df.AmountOfInsurance /= 1000\n",
    "policies_df.Earnings /= 1000\n",
    "policies_df.AmountOfInsurance = np.log(policies_df.AmountOfInsurance)\n",
    "policies_df.Earnings = np.log(policies_df.Earnings)\n",
    "\n",
    "policies_df"
   ]
  },
  {
   "cell_type": "code",
   "execution_count": 5,
   "metadata": {},
   "outputs": [
    {
     "name": "stdout",
     "output_type": "stream",
     "text": [
      "num components: 12, bic: 1366068.3060515865\n"
     ]
    }
   ],
   "source": [
    "# 12 clusters result in best BIC\n",
    "X = policies_df.drop(columns=[\"BusinessID\"])\n",
    "for num_components in range(12, 13):\n",
    "    gmm = GaussianMixture(n_components=num_components, random_state=1)\n",
    "    gmm.fit(X)\n",
    "    bic = gmm.bic(X)\n",
    "    print(f\"num components: {num_components}, bic: {bic}\")\n",
    "policies_df[\"ClusterCode\"] = gmm.predict(X)"
   ]
  },
  {
   "cell_type": "code",
   "execution_count": 6,
   "metadata": {},
   "outputs": [],
   "source": [
    "# sns.scatterplot(x=policies_df.Longitude, y=policies_df.Latitude, hue=policies_df.ClusterCode, palette=\"turbo\")"
   ]
  },
  {
   "cell_type": "code",
   "execution_count": 7,
   "metadata": {},
   "outputs": [],
   "source": [
    "policies_df.ClusterCode = policies_df.AddressCode.astype(\"category\")"
   ]
  },
  {
   "cell_type": "code",
   "execution_count": 8,
   "metadata": {},
   "outputs": [
    {
     "name": "stdout",
     "output_type": "stream",
     "text": [
      "set()\n"
     ]
    },
    {
     "data": {
      "text/html": [
       "<div>\n",
       "<style scoped>\n",
       "    .dataframe tbody tr th:only-of-type {\n",
       "        vertical-align: middle;\n",
       "    }\n",
       "\n",
       "    .dataframe tbody tr th {\n",
       "        vertical-align: top;\n",
       "    }\n",
       "\n",
       "    .dataframe thead th {\n",
       "        text-align: right;\n",
       "    }\n",
       "</style>\n",
       "<table border=\"1\" class=\"dataframe\">\n",
       "  <thead>\n",
       "    <tr style=\"text-align: right;\">\n",
       "      <th></th>\n",
       "      <th>BusinessID</th>\n",
       "      <th>ClaimAmount</th>\n",
       "      <th>Latitude</th>\n",
       "      <th>Longitude</th>\n",
       "      <th>AmountOfInsurance</th>\n",
       "      <th>Earnings</th>\n",
       "      <th>BusinessTypeCode</th>\n",
       "      <th>AddressCode</th>\n",
       "      <th>ClusterCode</th>\n",
       "    </tr>\n",
       "  </thead>\n",
       "  <tbody>\n",
       "    <tr>\n",
       "      <th>0</th>\n",
       "      <td>00006A45</td>\n",
       "      <td>277674.57</td>\n",
       "      <td>43.90</td>\n",
       "      <td>-79.27</td>\n",
       "      <td>6.694067</td>\n",
       "      <td>4.682131</td>\n",
       "      <td>8</td>\n",
       "      <td>0</td>\n",
       "      <td>0</td>\n",
       "    </tr>\n",
       "    <tr>\n",
       "      <th>1</th>\n",
       "      <td>00007A94</td>\n",
       "      <td>139775.41</td>\n",
       "      <td>43.65</td>\n",
       "      <td>-79.43</td>\n",
       "      <td>6.535532</td>\n",
       "      <td>5.147494</td>\n",
       "      <td>14</td>\n",
       "      <td>2</td>\n",
       "      <td>2</td>\n",
       "    </tr>\n",
       "    <tr>\n",
       "      <th>2</th>\n",
       "      <td>0002A104</td>\n",
       "      <td>376145.26</td>\n",
       "      <td>43.15</td>\n",
       "      <td>-80.24</td>\n",
       "      <td>6.778899</td>\n",
       "      <td>5.497168</td>\n",
       "      <td>25</td>\n",
       "      <td>0</td>\n",
       "      <td>0</td>\n",
       "    </tr>\n",
       "    <tr>\n",
       "      <th>3</th>\n",
       "      <td>0003A113</td>\n",
       "      <td>86434.20</td>\n",
       "      <td>45.70</td>\n",
       "      <td>-73.63</td>\n",
       "      <td>6.139453</td>\n",
       "      <td>4.997212</td>\n",
       "      <td>23</td>\n",
       "      <td>0</td>\n",
       "      <td>0</td>\n",
       "    </tr>\n",
       "    <tr>\n",
       "      <th>4</th>\n",
       "      <td>0005A152</td>\n",
       "      <td>218156.43</td>\n",
       "      <td>43.64</td>\n",
       "      <td>-79.76</td>\n",
       "      <td>6.919684</td>\n",
       "      <td>5.513429</td>\n",
       "      <td>23</td>\n",
       "      <td>0</td>\n",
       "      <td>0</td>\n",
       "    </tr>\n",
       "    <tr>\n",
       "      <th>...</th>\n",
       "      <td>...</td>\n",
       "      <td>...</td>\n",
       "      <td>...</td>\n",
       "      <td>...</td>\n",
       "      <td>...</td>\n",
       "      <td>...</td>\n",
       "      <td>...</td>\n",
       "      <td>...</td>\n",
       "      <td>...</td>\n",
       "    </tr>\n",
       "    <tr>\n",
       "      <th>250196</th>\n",
       "      <td>1A249996</td>\n",
       "      <td>NaN</td>\n",
       "      <td>45.45</td>\n",
       "      <td>-73.81</td>\n",
       "      <td>6.087456</td>\n",
       "      <td>5.680173</td>\n",
       "      <td>25</td>\n",
       "      <td>0</td>\n",
       "      <td>0</td>\n",
       "    </tr>\n",
       "    <tr>\n",
       "      <th>250197</th>\n",
       "      <td>8A249997</td>\n",
       "      <td>NaN</td>\n",
       "      <td>45.44</td>\n",
       "      <td>-75.74</td>\n",
       "      <td>6.494359</td>\n",
       "      <td>5.575949</td>\n",
       "      <td>8</td>\n",
       "      <td>1</td>\n",
       "      <td>1</td>\n",
       "    </tr>\n",
       "    <tr>\n",
       "      <th>250198</th>\n",
       "      <td>3A249998</td>\n",
       "      <td>NaN</td>\n",
       "      <td>43.22</td>\n",
       "      <td>-79.91</td>\n",
       "      <td>6.094247</td>\n",
       "      <td>5.347108</td>\n",
       "      <td>3</td>\n",
       "      <td>0</td>\n",
       "      <td>0</td>\n",
       "    </tr>\n",
       "    <tr>\n",
       "      <th>250199</th>\n",
       "      <td>3A249999</td>\n",
       "      <td>NaN</td>\n",
       "      <td>46.34</td>\n",
       "      <td>-79.47</td>\n",
       "      <td>6.660191</td>\n",
       "      <td>4.882802</td>\n",
       "      <td>31</td>\n",
       "      <td>0</td>\n",
       "      <td>0</td>\n",
       "    </tr>\n",
       "    <tr>\n",
       "      <th>250200</th>\n",
       "      <td>5A250000</td>\n",
       "      <td>NaN</td>\n",
       "      <td>45.39</td>\n",
       "      <td>-75.80</td>\n",
       "      <td>6.885203</td>\n",
       "      <td>5.468060</td>\n",
       "      <td>9</td>\n",
       "      <td>1</td>\n",
       "      <td>1</td>\n",
       "    </tr>\n",
       "  </tbody>\n",
       "</table>\n",
       "<p>250201 rows × 9 columns</p>\n",
       "</div>"
      ],
      "text/plain": [
       "       BusinessID  ClaimAmount  Latitude  Longitude  AmountOfInsurance  \\\n",
       "0        00006A45    277674.57     43.90     -79.27           6.694067   \n",
       "1        00007A94    139775.41     43.65     -79.43           6.535532   \n",
       "2        0002A104    376145.26     43.15     -80.24           6.778899   \n",
       "3        0003A113     86434.20     45.70     -73.63           6.139453   \n",
       "4        0005A152    218156.43     43.64     -79.76           6.919684   \n",
       "...           ...          ...       ...        ...                ...   \n",
       "250196   1A249996          NaN     45.45     -73.81           6.087456   \n",
       "250197   8A249997          NaN     45.44     -75.74           6.494359   \n",
       "250198   3A249998          NaN     43.22     -79.91           6.094247   \n",
       "250199   3A249999          NaN     46.34     -79.47           6.660191   \n",
       "250200   5A250000          NaN     45.39     -75.80           6.885203   \n",
       "\n",
       "        Earnings BusinessTypeCode AddressCode ClusterCode  \n",
       "0       4.682131                8           0           0  \n",
       "1       5.147494               14           2           2  \n",
       "2       5.497168               25           0           0  \n",
       "3       4.997212               23           0           0  \n",
       "4       5.513429               23           0           0  \n",
       "...          ...              ...         ...         ...  \n",
       "250196  5.680173               25           0           0  \n",
       "250197  5.575949                8           1           1  \n",
       "250198  5.347108                3           0           0  \n",
       "250199  4.882802               31           0           0  \n",
       "250200  5.468060                9           1           1  \n",
       "\n",
       "[250201 rows x 9 columns]"
      ]
     },
     "execution_count": 8,
     "metadata": {},
     "output_type": "execute_result"
    }
   ],
   "source": [
    "# Sanity check: There are no new businesses in claims data\n",
    "a = set(policies_df.BusinessID)\n",
    "b = set(claims_df.BusinessID)\n",
    "print(b - a)\n",
    "# Outer join to make consolidated table\n",
    "train_consolidated_df = claims_df.merge(policies_df, on=\"BusinessID\", how=\"outer\")\n",
    "train_consolidated_df"
   ]
  },
  {
   "cell_type": "code",
   "execution_count": 9,
   "metadata": {},
   "outputs": [
    {
     "data": {
      "text/html": [
       "<div>\n",
       "<style scoped>\n",
       "    .dataframe tbody tr th:only-of-type {\n",
       "        vertical-align: middle;\n",
       "    }\n",
       "\n",
       "    .dataframe tbody tr th {\n",
       "        vertical-align: top;\n",
       "    }\n",
       "\n",
       "    .dataframe thead th {\n",
       "        text-align: right;\n",
       "    }\n",
       "</style>\n",
       "<table border=\"1\" class=\"dataframe\">\n",
       "  <thead>\n",
       "    <tr style=\"text-align: right;\">\n",
       "      <th></th>\n",
       "      <th>Latitude</th>\n",
       "      <th>Longitude</th>\n",
       "      <th>AmountOfInsurance</th>\n",
       "      <th>Earnings</th>\n",
       "      <th>BusinessTypeCode</th>\n",
       "      <th>AddressCode</th>\n",
       "      <th>ClusterCode</th>\n",
       "      <th>NumClaims</th>\n",
       "      <th>ExpectedSeverity</th>\n",
       "    </tr>\n",
       "  </thead>\n",
       "  <tbody>\n",
       "    <tr>\n",
       "      <th>0</th>\n",
       "      <td>43.90</td>\n",
       "      <td>-79.27</td>\n",
       "      <td>6.694067</td>\n",
       "      <td>4.682131</td>\n",
       "      <td>8</td>\n",
       "      <td>0</td>\n",
       "      <td>0</td>\n",
       "      <td>1.0</td>\n",
       "      <td>5.626450</td>\n",
       "    </tr>\n",
       "    <tr>\n",
       "      <th>1</th>\n",
       "      <td>43.65</td>\n",
       "      <td>-79.43</td>\n",
       "      <td>6.535532</td>\n",
       "      <td>5.147494</td>\n",
       "      <td>14</td>\n",
       "      <td>2</td>\n",
       "      <td>2</td>\n",
       "      <td>1.0</td>\n",
       "      <td>4.940037</td>\n",
       "    </tr>\n",
       "    <tr>\n",
       "      <th>2</th>\n",
       "      <td>43.15</td>\n",
       "      <td>-80.24</td>\n",
       "      <td>6.778899</td>\n",
       "      <td>5.497168</td>\n",
       "      <td>25</td>\n",
       "      <td>0</td>\n",
       "      <td>0</td>\n",
       "      <td>1.0</td>\n",
       "      <td>5.929975</td>\n",
       "    </tr>\n",
       "    <tr>\n",
       "      <th>3</th>\n",
       "      <td>45.70</td>\n",
       "      <td>-73.63</td>\n",
       "      <td>6.139453</td>\n",
       "      <td>4.997212</td>\n",
       "      <td>23</td>\n",
       "      <td>0</td>\n",
       "      <td>0</td>\n",
       "      <td>1.0</td>\n",
       "      <td>4.459383</td>\n",
       "    </tr>\n",
       "    <tr>\n",
       "      <th>4</th>\n",
       "      <td>43.64</td>\n",
       "      <td>-79.76</td>\n",
       "      <td>6.919684</td>\n",
       "      <td>5.513429</td>\n",
       "      <td>23</td>\n",
       "      <td>0</td>\n",
       "      <td>0</td>\n",
       "      <td>1.0</td>\n",
       "      <td>5.385212</td>\n",
       "    </tr>\n",
       "    <tr>\n",
       "      <th>...</th>\n",
       "      <td>...</td>\n",
       "      <td>...</td>\n",
       "      <td>...</td>\n",
       "      <td>...</td>\n",
       "      <td>...</td>\n",
       "      <td>...</td>\n",
       "      <td>...</td>\n",
       "      <td>...</td>\n",
       "      <td>...</td>\n",
       "    </tr>\n",
       "    <tr>\n",
       "      <th>250196</th>\n",
       "      <td>45.45</td>\n",
       "      <td>-73.81</td>\n",
       "      <td>6.087456</td>\n",
       "      <td>5.680173</td>\n",
       "      <td>25</td>\n",
       "      <td>0</td>\n",
       "      <td>0</td>\n",
       "      <td>0.0</td>\n",
       "      <td>NaN</td>\n",
       "    </tr>\n",
       "    <tr>\n",
       "      <th>250197</th>\n",
       "      <td>45.44</td>\n",
       "      <td>-75.74</td>\n",
       "      <td>6.494359</td>\n",
       "      <td>5.575949</td>\n",
       "      <td>8</td>\n",
       "      <td>1</td>\n",
       "      <td>1</td>\n",
       "      <td>0.0</td>\n",
       "      <td>NaN</td>\n",
       "    </tr>\n",
       "    <tr>\n",
       "      <th>250198</th>\n",
       "      <td>43.22</td>\n",
       "      <td>-79.91</td>\n",
       "      <td>6.094247</td>\n",
       "      <td>5.347108</td>\n",
       "      <td>3</td>\n",
       "      <td>0</td>\n",
       "      <td>0</td>\n",
       "      <td>0.0</td>\n",
       "      <td>NaN</td>\n",
       "    </tr>\n",
       "    <tr>\n",
       "      <th>250199</th>\n",
       "      <td>46.34</td>\n",
       "      <td>-79.47</td>\n",
       "      <td>6.660191</td>\n",
       "      <td>4.882802</td>\n",
       "      <td>31</td>\n",
       "      <td>0</td>\n",
       "      <td>0</td>\n",
       "      <td>0.0</td>\n",
       "      <td>NaN</td>\n",
       "    </tr>\n",
       "    <tr>\n",
       "      <th>250200</th>\n",
       "      <td>45.39</td>\n",
       "      <td>-75.80</td>\n",
       "      <td>6.885203</td>\n",
       "      <td>5.468060</td>\n",
       "      <td>9</td>\n",
       "      <td>1</td>\n",
       "      <td>1</td>\n",
       "      <td>0.0</td>\n",
       "      <td>NaN</td>\n",
       "    </tr>\n",
       "  </tbody>\n",
       "</table>\n",
       "<p>250000 rows × 9 columns</p>\n",
       "</div>"
      ],
      "text/plain": [
       "        Latitude  Longitude  AmountOfInsurance  Earnings BusinessTypeCode  \\\n",
       "0          43.90     -79.27           6.694067  4.682131                8   \n",
       "1          43.65     -79.43           6.535532  5.147494               14   \n",
       "2          43.15     -80.24           6.778899  5.497168               25   \n",
       "3          45.70     -73.63           6.139453  4.997212               23   \n",
       "4          43.64     -79.76           6.919684  5.513429               23   \n",
       "...          ...        ...                ...       ...              ...   \n",
       "250196     45.45     -73.81           6.087456  5.680173               25   \n",
       "250197     45.44     -75.74           6.494359  5.575949                8   \n",
       "250198     43.22     -79.91           6.094247  5.347108                3   \n",
       "250199     46.34     -79.47           6.660191  4.882802               31   \n",
       "250200     45.39     -75.80           6.885203  5.468060                9   \n",
       "\n",
       "       AddressCode ClusterCode  NumClaims  ExpectedSeverity  \n",
       "0                0           0        1.0          5.626450  \n",
       "1                2           2        1.0          4.940037  \n",
       "2                0           0        1.0          5.929975  \n",
       "3                0           0        1.0          4.459383  \n",
       "4                0           0        1.0          5.385212  \n",
       "...            ...         ...        ...               ...  \n",
       "250196           0           0        0.0               NaN  \n",
       "250197           1           1        0.0               NaN  \n",
       "250198           0           0        0.0               NaN  \n",
       "250199           0           0        0.0               NaN  \n",
       "250200           1           1        0.0               NaN  \n",
       "\n",
       "[250000 rows x 9 columns]"
      ]
     },
     "execution_count": 9,
     "metadata": {},
     "output_type": "execute_result"
    }
   ],
   "source": [
    "# Using ClaimAmount create NumClaims and ExpectedSeverity columns taking into account duplicate BusinessID rows\n",
    "train_consolidated_df[\"DidClaim\"] = train_consolidated_df.ClaimAmount > 0\n",
    "# Treat number of claims as continuos variable\n",
    "num_claims = train_consolidated_df.groupby(\"BusinessID\").DidClaim.sum().astype(float)\n",
    "num_claims.name = \"NumClaims\"\n",
    "expected_severity = train_consolidated_df.groupby(\"BusinessID\").ClaimAmount.mean()\n",
    "expected_severity.name = \"ExpectedSeverity\"\n",
    "train_consolidated_df = train_consolidated_df.merge(num_claims, on=\"BusinessID\")\n",
    "train_consolidated_df = train_consolidated_df.merge(expected_severity, on=\"BusinessID\")\n",
    "\n",
    "# Drop DidClaim, ClaimAmount column and remove duplicate rows\n",
    "train_consolidated_df = train_consolidated_df.drop(columns=[\"DidClaim\", \"ClaimAmount\"])\n",
    "train_consolidated_df = train_consolidated_df.drop_duplicates(\"BusinessID\")\n",
    "\n",
    "# Represent ExpectedSeverity in 1000s of dollars, then take log to reduce skewness\n",
    "train_consolidated_df.ExpectedSeverity /= 1000\n",
    "train_consolidated_df.ExpectedSeverity = np.log(train_consolidated_df.ExpectedSeverity)\n",
    "\n",
    "# Drop BusinessID\n",
    "train_consolidated_df = train_consolidated_df.drop(columns=[\"BusinessID\"])\n",
    "\n",
    "train_consolidated_df"
   ]
  },
  {
   "cell_type": "code",
   "execution_count": 10,
   "metadata": {},
   "outputs": [],
   "source": [
    "# # Use Latitude, Longitude to perform geo clustering\n",
    "# # https://geoffboeing.com/2014/08/clustering-to-reduce-spatial-data-set-size/\n",
    "# coords = train_consolidated_df[[\"Latitude\", \"Longitude\"]].to_numpy()\n",
    "# coords = np.radians(coords)\n",
    "# kms_per_raidan = 6371.0088\n",
    "# # max distance between points to be considered in a cluster\n",
    "# epsilon = 100.0 / kms_per_raidan\n",
    "# # Use great circle distance metric\n",
    "# db = DBSCAN(eps=epsilon, min_samples=1, algorithm=\"ball_tree\", metric=\"haversine\").fit(coords)\n",
    "# print(len(set(db.labels_)))\n",
    "# train_consolidated_df[\"GeoClusterCode\"] = db.labels_\n",
    "\n",
    "# # One hot encoding of geo cluster\n",
    "# geocluster_codes = train_consolidated_df.GeoClusterCode.copy()\n",
    "# train_consolidated_df = pd.get_dummies(train_consolidated_df, columns=[\"GeoClusterCode\"])\n",
    "# train_consolidated_df[\"GeoClusterCode\"] = geocluster_codes\n",
    "# sns.scatterplot(train_consolidated_df, x=\"Longitude\", y=\"Latitude\", hue=\"GeoClusterCode\", palette=\"turbo\")"
   ]
  },
  {
   "attachments": {},
   "cell_type": "markdown",
   "metadata": {},
   "source": [
    "### Analysis"
   ]
  },
  {
   "cell_type": "code",
   "execution_count": 11,
   "metadata": {},
   "outputs": [],
   "source": [
    "# sns.pairplot(train_consolidated_df[\n",
    "#     [\"BusinessTypeCode\", \"AddressCode\", \"ClusterCode\", \"Latitude\", \"Longitude\", \"AmountOfInsurance\", \"Earnings\", \"NumClaims\", \"ExpectedSeverity\"]\n",
    "# ])"
   ]
  },
  {
   "attachments": {},
   "cell_type": "markdown",
   "metadata": {},
   "source": [
    "### Synthetic data generation"
   ]
  },
  {
   "cell_type": "code",
   "execution_count": 12,
   "metadata": {},
   "outputs": [],
   "source": [
    "# model = CTGAN(epochs=100)\n",
    "# model.fit(train_consolidated_df[[\"BusinessTypeCode\", \"AddressCode\", \"Latitude\", \"Longitude\", \"AmountOfInsurance\", \"Earnings\", \"NumClaims\", \"ExpectedSeverity\"]])"
   ]
  },
  {
   "cell_type": "code",
   "execution_count": 13,
   "metadata": {},
   "outputs": [],
   "source": [
    "# model.save(\"ctgan_epoch_100.pkl\")"
   ]
  },
  {
   "cell_type": "code",
   "execution_count": 14,
   "metadata": {},
   "outputs": [],
   "source": [
    "# ctgan_model = CTGAN.load(\"ctgan_epoch_100.pkl\")"
   ]
  },
  {
   "cell_type": "code",
   "execution_count": 15,
   "metadata": {},
   "outputs": [],
   "source": [
    "# synthetic_data = ctgan_model.sample(num_rows=250000)\n",
    "# evaluate(synthetic_data, train_consolidated_df[[\"BusinessTypeCode\", \"AddressCode\", \"Latitude\", \"Longitude\", \"AmountOfInsurance\", \"Earnings\", \"NumClaims\", \"ExpectedSeverity\"]])"
   ]
  },
  {
   "cell_type": "code",
   "execution_count": 16,
   "metadata": {},
   "outputs": [],
   "source": [
    "# sns.pairplot(synthetic_data[[\"BusinessTypeCode\", \"AddressCode\", \"Latitude\", \"Longitude\", \"AmountOfInsurance\", \"Earnings\", \"NumClaims\", \"ExpectedSeverity\"]])"
   ]
  },
  {
   "cell_type": "code",
   "execution_count": 17,
   "metadata": {},
   "outputs": [],
   "source": [
    "# # One hot encoding\n",
    "# business_codes = synthetic_data.BusinessTypeCode.copy()\n",
    "# synthetic_data = pd.get_dummies(synthetic_data, columns=[\"BusinessTypeCode\"])\n",
    "\n",
    "# # One hot encoding\n",
    "# address_codes = synthetic_data.AddressCode.copy()\n",
    "# synthetic_data = pd.get_dummies(synthetic_data, columns=[\"AddressCode\"])"
   ]
  },
  {
   "cell_type": "code",
   "execution_count": 18,
   "metadata": {},
   "outputs": [],
   "source": [
    "# synthetic_data"
   ]
  },
  {
   "cell_type": "code",
   "execution_count": 19,
   "metadata": {},
   "outputs": [],
   "source": [
    "# synthetic_data.columns.values.tolist()"
   ]
  },
  {
   "attachments": {},
   "cell_type": "markdown",
   "metadata": {},
   "source": [
    "### Training model"
   ]
  },
  {
   "cell_type": "code",
   "execution_count": 20,
   "metadata": {},
   "outputs": [],
   "source": [
    "# train_consolidated_df = train_consolidated_df.drop(columns=[\"BusinessTypeCode\", \"AddressCode\"])\n",
    "# train_consolidated_df"
   ]
  },
  {
   "cell_type": "code",
   "execution_count": 21,
   "metadata": {},
   "outputs": [
    {
     "data": {
      "text/plain": [
       "Latitude              float64\n",
       "Longitude             float64\n",
       "AmountOfInsurance     float64\n",
       "Earnings              float64\n",
       "BusinessTypeCode     category\n",
       "AddressCode          category\n",
       "ClusterCode          category\n",
       "NumClaims             float64\n",
       "ExpectedSeverity      float64\n",
       "dtype: object"
      ]
     },
     "execution_count": 21,
     "metadata": {},
     "output_type": "execute_result"
    }
   ],
   "source": [
    "train_consolidated_df.dtypes"
   ]
  },
  {
   "cell_type": "code",
   "execution_count": 22,
   "metadata": {},
   "outputs": [],
   "source": [
    "y1 = train_consolidated_df[\"NumClaims\"]\n",
    "X1 = train_consolidated_df.drop(columns=[\"NumClaims\", \"ExpectedSeverity\"])\n",
    "\n",
    "# Do not assume ExpectedSeverity = 0 for businesses who have not claimed\n",
    "y2 = train_consolidated_df[~train_consolidated_df.ExpectedSeverity.isnull()][\"ExpectedSeverity\"]\n",
    "X2 = train_consolidated_df[~train_consolidated_df.ExpectedSeverity.isnull()].drop(columns=[\"NumClaims\", \"ExpectedSeverity\"])"
   ]
  },
  {
   "cell_type": "code",
   "execution_count": 20,
   "metadata": {},
   "outputs": [],
   "source": [
    "# y1_valid = synthetic_data[\"NumClaims\"].to_numpy()\n",
    "# X1_valid = synthetic_data.drop(columns=[\"NumClaims\", \"ExpectedSeverity\"]).to_numpy()\n",
    "\n",
    "# # Do not assume ExpectedSeverity = 0 for businesses who have not claimed\n",
    "# y2_valid = synthetic_data[~synthetic_data.ExpectedSeverity.isnull()][\"ExpectedSeverity\"].to_numpy()\n",
    "# X2_valid = synthetic_data[~synthetic_data.ExpectedSeverity.isnull()].drop(columns=[\"NumClaims\", \"ExpectedSeverity\"]).to_numpy()"
   ]
  },
  {
   "attachments": {},
   "cell_type": "markdown",
   "metadata": {},
   "source": [
    "### NumClaims model"
   ]
  },
  {
   "cell_type": "code",
   "execution_count": 21,
   "metadata": {},
   "outputs": [],
   "source": [
    "# # Hyperparameters\n",
    "# # param_grid1 = {\n",
    "# #     \"min_samples_split\": [2, 5, 10],\n",
    "# #     \"n_estimators\": [100, 200],\n",
    "# #     \"min_samples_leaf\": [1, 2, 5],\n",
    "# #     \"max_depth\": [10, 20],\n",
    "# #     \"ccp_alpha\": [0.0001, 0.001, 0.01]\n",
    "# # }\n",
    "# param_grid_rf_1 = {\n",
    "#     \"min_samples_split\": [2],\n",
    "#     \"n_estimators\": [100],\n",
    "#     \"min_samples_leaf\": [1],\n",
    "#     \"max_depth\": [20],\n",
    "#     \"ccp_alpha\": [0.0001]\n",
    "# }\n",
    "# model_rf_1 = RandomForestRegressor(random_state=1)\n",
    "# search_rf_1= GridSearchCV(model_rf_1, param_grid=param_grid_rf_1, refit=True, cv=5, scoring=\"neg_mean_squared_error\")\n",
    "# search_rf_1.fit(X, y1)"
   ]
  },
  {
   "cell_type": "code",
   "execution_count": 22,
   "metadata": {},
   "outputs": [],
   "source": [
    "# predictions = search_rf_1.predict(X)\n",
    "# sns.scatterplot(x=predictions, y=y1)\n",
    "# print(mean_squared_error(y1, predictions))"
   ]
  },
  {
   "cell_type": "code",
   "execution_count": 23,
   "metadata": {},
   "outputs": [],
   "source": [
    "# Hyperparameter tuning\n",
    "# param_grid_xgb_1 = {\n",
    "#     \"n_estimators\": [25, 50, 75 100, 200],\n",
    "#     \"learning_rate\": [0.001, 0.01, 0.1, 0.3, 0.5],\n",
    "#     \"max_depth\": [1, 2, 3, 5, 10, 15, 20],\n",
    "#     \"learning_rate\": [0.1],\n",
    "#     \"subsample\": [0.5, 0.6, 0.7, 0.8],\n",
    "#     \"colsample_bytree\": [0.5, 0.6, 0.8, 0.9, 0.95, 1.0]\n",
    "# }\n",
    "# param_grid_xgb_1 = {\n",
    "#     \"n_estimators\": [100],\n",
    "#     \"learning_rate\": [0.1],\n",
    "#     \"max_depth\": [10],\n",
    "#     \"subsample\": [0.6],\n",
    "#     \"colsample_bytree\": [0.95]\n",
    "# }\n",
    "\n",
    "# model_xgb_1 = XGBRegressor(random_state=1)\n",
    "# search_xgb_1 = GridSearchCV(model_xgb_1, param_grid=param_grid_xgb_1, cv=5, scoring=\"neg_mean_squared_error\")\n",
    "# search_xgb_1.fit(X1, y1)\n",
    "# print(np.sqrt(-search_xgb_1.best_score_))\n",
    "# print(search_xgb_1.best_params_)"
   ]
  },
  {
   "cell_type": "code",
   "execution_count": 54,
   "metadata": {},
   "outputs": [
    {
     "name": "stdout",
     "output_type": "stream",
     "text": [
      "0.2114637300302075\n"
     ]
    },
    {
     "data": {
      "image/png": "[encoded data removed]",
      "text/plain": [
       "<Figure size 640x480 with 1 Axes>"
      ]
     },
     "metadata": {},
     "output_type": "display_data"
    }
   ],
   "source": [
    "# 5 fold cross validation result and plot\n",
    "# X axis: ground truth\n",
    "# Y axis: predictions\n",
    "model = XGBRegressor(\n",
    "    random_state=1, n_estimators=200, learning_rate=0.1, max_depth=20, subsample=0.6, colsample_bytree=0.95, enable_categorical=True, tree_method=\"hist\"\n",
    ")\n",
    "predictions = cross_val_predict(model, X=X1, y=y1, cv=5)\n",
    "# number of claims cannot be negative\n",
    "predictions = np.abs(predictions)\n",
    "sns.scatterplot(y=predictions, x=y1)\n",
    "print(mean_squared_error(y1, predictions, squared=False))"
   ]
  },
  {
   "cell_type": "code",
   "execution_count": 24,
   "metadata": {},
   "outputs": [
    {
     "data": {
      "text/plain": [
       "<AxesSubplot: xlabel='NumClaims', ylabel='Count'>"
      ]
     },
     "execution_count": 24,
     "metadata": {},
     "output_type": "execute_result"
    },
    {
     "data": {
      "image/png": "[encoded data removed]",
      "text/plain": [
       "<Figure size 640x480 with 1 Axes>"
      ]
     },
     "metadata": {},
     "output_type": "display_data"
    }
   ],
   "source": [
    "sns.histplot(y1, bins=10)"
   ]
  },
  {
   "cell_type": "code",
   "execution_count": 55,
   "metadata": {},
   "outputs": [
    {
     "data": {
      "text/plain": [
       "<AxesSubplot: ylabel='Count'>"
      ]
     },
     "execution_count": 55,
     "metadata": {},
     "output_type": "execute_result"
    },
    {
     "data": {
      "image/png": "[encoded data removed]",
      "text/plain": [
       "<Figure size 640x480 with 1 Axes>"
      ]
     },
     "metadata": {},
     "output_type": "display_data"
    }
   ],
   "source": [
    "sns.histplot(predictions, bins=10)"
   ]
  },
  {
   "cell_type": "code",
   "execution_count": 25,
   "metadata": {},
   "outputs": [],
   "source": [
    "# # Train on augmented data\n",
    "# X = np.concatenate((X1, X1_valid), axis=0)\n",
    "# y = np.concatenate((y1, y1_valid), axis=0)\n",
    "# # 5 fold cross validation result and plot\n",
    "# model = XGBRegressor(random_state=1, n_estimators=100, learning_rate=0.1, max_depth=10, subsample=0.6, colsample_bytree=0.95)\n",
    "# predictions = cross_val_predict(model, X=X, y=y, cv=5)\n",
    "# sns.scatterplot(y=predictions, x=y)\n",
    "# print(mean_squared_error(y, predictions, squared=False))"
   ]
  },
  {
   "cell_type": "code",
   "execution_count": 56,
   "metadata": {},
   "outputs": [
    {
     "data": {
      "text/html": [
       "<style>#sk-container-id-3 {color: black;background-color: white;}#sk-container-id-3 pre{padding: 0;}#sk-container-id-3 div.sk-toggleable {background-color: white;}#sk-container-id-3 label.sk-toggleable__label {cursor: pointer;display: block;width: 100%;margin-bottom: 0;padding: 0.3em;box-sizing: border-box;text-align: center;}#sk-container-id-3 label.sk-toggleable__label-arrow:before {content: \"▸\";float: left;margin-right: 0.25em;color: #696969;}#sk-container-id-3 label.sk-toggleable__label-arrow:hover:before {color: black;}#sk-container-id-3 div.sk-estimator:hover label.sk-toggleable__label-arrow:before {color: black;}#sk-container-id-3 div.sk-toggleable__content {max-height: 0;max-width: 0;overflow: hidden;text-align: left;background-color: #f0f8ff;}#sk-container-id-3 div.sk-toggleable__content pre {margin: 0.2em;color: black;border-radius: 0.25em;background-color: #f0f8ff;}#sk-container-id-3 input.sk-toggleable__control:checked~div.sk-toggleable__content {max-height: 200px;max-width: 100%;overflow: auto;}#sk-container-id-3 input.sk-toggleable__control:checked~label.sk-toggleable__label-arrow:before {content: \"▾\";}#sk-container-id-3 div.sk-estimator input.sk-toggleable__control:checked~label.sk-toggleable__label {background-color: #d4ebff;}#sk-container-id-3 div.sk-label input.sk-toggleable__control:checked~label.sk-toggleable__label {background-color: #d4ebff;}#sk-container-id-3 input.sk-hidden--visually {border: 0;clip: rect(1px 1px 1px 1px);clip: rect(1px, 1px, 1px, 1px);height: 1px;margin: -1px;overflow: hidden;padding: 0;position: absolute;width: 1px;}#sk-container-id-3 div.sk-estimator {font-family: monospace;background-color: #f0f8ff;border: 1px dotted black;border-radius: 0.25em;box-sizing: border-box;margin-bottom: 0.5em;}#sk-container-id-3 div.sk-estimator:hover {background-color: #d4ebff;}#sk-container-id-3 div.sk-parallel-item::after {content: \"\";width: 100%;border-bottom: 1px solid gray;flex-grow: 1;}#sk-container-id-3 div.sk-label:hover label.sk-toggleable__label {background-color: #d4ebff;}#sk-container-id-3 div.sk-serial::before {content: \"\";position: absolute;border-left: 1px solid gray;box-sizing: border-box;top: 0;bottom: 0;left: 50%;z-index: 0;}#sk-container-id-3 div.sk-serial {display: flex;flex-direction: column;align-items: center;background-color: white;padding-right: 0.2em;padding-left: 0.2em;position: relative;}#sk-container-id-3 div.sk-item {position: relative;z-index: 1;}#sk-container-id-3 div.sk-parallel {display: flex;align-items: stretch;justify-content: center;background-color: white;position: relative;}#sk-container-id-3 div.sk-item::before, #sk-container-id-3 div.sk-parallel-item::before {content: \"\";position: absolute;border-left: 1px solid gray;box-sizing: border-box;top: 0;bottom: 0;left: 50%;z-index: -1;}#sk-container-id-3 div.sk-parallel-item {display: flex;flex-direction: column;z-index: 1;position: relative;background-color: white;}#sk-container-id-3 div.sk-parallel-item:first-child::after {align-self: flex-end;width: 50%;}#sk-container-id-3 div.sk-parallel-item:last-child::after {align-self: flex-start;width: 50%;}#sk-container-id-3 div.sk-parallel-item:only-child::after {width: 0;}#sk-container-id-3 div.sk-dashed-wrapped {border: 1px dashed gray;margin: 0 0.4em 0.5em 0.4em;box-sizing: border-box;padding-bottom: 0.4em;background-color: white;}#sk-container-id-3 div.sk-label label {font-family: monospace;font-weight: bold;display: inline-block;line-height: 1.2em;}#sk-container-id-3 div.sk-label-container {text-align: center;}#sk-container-id-3 div.sk-container {/* jupyter's `normalize.less` sets `[hidden] { display: none; }` but bootstrap.min.css set `[hidden] { display: none !important; }` so we also need the `!important` here to be able to override the default hidden behavior on the sphinx rendered scikit-learn.org. See: https://github.com/scikit-learn/scikit-learn/issues/21755 */display: inline-block !important;position: relative;}#sk-container-id-3 div.sk-text-repr-fallback {display: none;}</style><div id=\"sk-container-id-3\" class=\"sk-top-container\"><div class=\"sk-text-repr-fallback\"><pre>XGBRegressor(base_score=None, booster=None, callbacks=None,\n",
       "             colsample_bylevel=None, colsample_bynode=None,\n",
       "             colsample_bytree=0.95, early_stopping_rounds=None,\n",
       "             enable_categorical=True, eval_metric=None, feature_types=None,\n",
       "             gamma=None, gpu_id=None, grow_policy=None, importance_type=None,\n",
       "             interaction_constraints=None, learning_rate=0.1, max_bin=None,\n",
       "             max_cat_threshold=None, max_cat_to_onehot=None,\n",
       "             max_delta_step=None, max_depth=20, max_leaves=None,\n",
       "             min_child_weight=None, missing=nan, monotone_constraints=None,\n",
       "             n_estimators=200, n_jobs=None, num_parallel_tree=None,\n",
       "             predictor=None, random_state=1, ...)</pre><b>In a Jupyter environment, please rerun this cell to show the HTML representation or trust the notebook. <br />On GitHub, the HTML representation is unable to render, please try loading this page with nbviewer.org.</b></div><div class=\"sk-container\" hidden><div class=\"sk-item\"><div class=\"sk-estimator sk-toggleable\"><input class=\"sk-toggleable__control sk-hidden--visually\" id=\"sk-estimator-id-3\" type=\"checkbox\" checked><label for=\"sk-estimator-id-3\" class=\"sk-toggleable__label sk-toggleable__label-arrow\">XGBRegressor</label><div class=\"sk-toggleable__content\"><pre>XGBRegressor(base_score=None, booster=None, callbacks=None,\n",
       "             colsample_bylevel=None, colsample_bynode=None,\n",
       "             colsample_bytree=0.95, early_stopping_rounds=None,\n",
       "             enable_categorical=True, eval_metric=None, feature_types=None,\n",
       "             gamma=None, gpu_id=None, grow_policy=None, importance_type=None,\n",
       "             interaction_constraints=None, learning_rate=0.1, max_bin=None,\n",
       "             max_cat_threshold=None, max_cat_to_onehot=None,\n",
       "             max_delta_step=None, max_depth=20, max_leaves=None,\n",
       "             min_child_weight=None, missing=nan, monotone_constraints=None,\n",
       "             n_estimators=200, n_jobs=None, num_parallel_tree=None,\n",
       "             predictor=None, random_state=1, ...)</pre></div></div></div></div></div>"
      ],
      "text/plain": [
       "XGBRegressor(base_score=None, booster=None, callbacks=None,\n",
       "             colsample_bylevel=None, colsample_bynode=None,\n",
       "             colsample_bytree=0.95, early_stopping_rounds=None,\n",
       "             enable_categorical=True, eval_metric=None, feature_types=None,\n",
       "             gamma=None, gpu_id=None, grow_policy=None, importance_type=None,\n",
       "             interaction_constraints=None, learning_rate=0.1, max_bin=None,\n",
       "             max_cat_threshold=None, max_cat_to_onehot=None,\n",
       "             max_delta_step=None, max_depth=20, max_leaves=None,\n",
       "             min_child_weight=None, missing=nan, monotone_constraints=None,\n",
       "             n_estimators=200, n_jobs=None, num_parallel_tree=None,\n",
       "             predictor=None, random_state=1, ...)"
      ]
     },
     "execution_count": 56,
     "metadata": {},
     "output_type": "execute_result"
    }
   ],
   "source": [
    "# Train final model on whole dataset\n",
    "model_xgb_1 = XGBRegressor(\n",
    "    random_state=1, n_estimators=200, learning_rate=0.1, max_depth=20, subsample=0.6, colsample_bytree=0.95, enable_categorical=True, tree_method=\"hist\"\n",
    ")\n",
    "model_xgb_1.fit(X1, y1)"
   ]
  },
  {
   "cell_type": "markdown",
   "metadata": {},
   "source": [
    "### ExpectedSeverity model"
   ]
  },
  {
   "cell_type": "code",
   "execution_count": 27,
   "metadata": {},
   "outputs": [],
   "source": [
    "# # Hyperparameters\n",
    "# # param_grid1 = {\n",
    "# #     \"min_samples_split\": [2, 5, 10],\n",
    "# #     \"n_estimators\": [100, 200, 300],\n",
    "# #     \"min_samples_leaf\": [5, 10, 20],\n",
    "# #     \"max_depth\": [3, 5, 10],\n",
    "# #     \"ccp_alpha\": [0.0001, 0.001, 0.01]\n",
    "\n",
    "# # }\n",
    "# param_grid_rf_2 = {\n",
    "#     \"min_samples_split\": [2],\n",
    "#     \"n_estimators\": [100],\n",
    "#     \"min_samples_leaf\": [20],\n",
    "#     \"max_depth\": [3],\n",
    "#     \"ccp_alpha\": [0.001]\n",
    "# }\n",
    "# model_rf_2 = RandomForestRegressor(random_state=1)\n",
    "# search_rf_2 = GridSearchCV(model_rf_2, param_grid=param_grid_rf_2, refit=True, cv=5, scoring=\"neg_mean_squared_error\")\n",
    "# search_rf_2.fit(X, y2)"
   ]
  },
  {
   "cell_type": "code",
   "execution_count": 28,
   "metadata": {},
   "outputs": [],
   "source": [
    "# predictions = search_rf_2.predict(X)\n",
    "# sns.scatterplot(x=predictions, y=y2)\n",
    "# print(mean_squared_error(y2, predictions))"
   ]
  },
  {
   "cell_type": "code",
   "execution_count": 29,
   "metadata": {},
   "outputs": [],
   "source": [
    "# Hyperparameters\n",
    "# param_grid_xgb_2 = {\n",
    "#     \"n_estimators\": [25, 50, 75 100, 200],\n",
    "#     \"learning_rate\": [0.001, 0.01, 0.1, 0.3, 0.5],\n",
    "#     \"max_depth\": [1, 2, 3, 5, 10, 15, 20],\n",
    "#     \"learning_rate\": [0.1],\n",
    "#     \"subsample\": [0.5, 0.6, 0.7, 0.8],\n",
    "#     \"colsample_bytree\": [0.5, 0.6, 0.8, 0.9, 0.95, 1.0]\n",
    "# }\n",
    "# param_grid_xgb_2 = {\n",
    "#     \"n_estimators\": [50],\n",
    "#     \"learning_rate\": [0.1],\n",
    "#     \"max_depth\": [10],\n",
    "#     \"subsample\": [0.6],\n",
    "#     \"colsample_bytree\": [0.95]\n",
    "# }\n",
    "\n",
    "# model_xgb_2 = XGBRegressor(random_state=1)\n",
    "# search_xgb_2 = GridSearchCV(model_xgb_2, param_grid=param_grid_xgb_2, refit=True, cv=5, scoring=\"neg_root_mean_squared_error\")\n",
    "# search_xgb_2.fit(X2, y2)\n",
    "# print(np.sqrt(-search_xgb_2.best_score_))\n",
    "# print(search_xgb_2.best_params_)"
   ]
  },
  {
   "cell_type": "code",
   "execution_count": 52,
   "metadata": {},
   "outputs": [
    {
     "name": "stdout",
     "output_type": "stream",
     "text": [
      "261934.57394300154\n"
     ]
    },
    {
     "data": {
      "image/png": "[encoded data removed]",
      "text/plain": [
       "<Figure size 640x480 with 1 Axes>"
      ]
     },
     "metadata": {},
     "output_type": "display_data"
    }
   ],
   "source": [
    "# 5 fold cross validation result and plot\n",
    "# X axis: ground truth\n",
    "# Y axis: predictions\n",
    "model = XGBRegressor(\n",
    "    random_state=1, n_estimators=200, learning_rate=0.1, max_depth=20, subsample=0.6, colsample_bytree=0.95, enable_categorical=True, tree_method=\"hist\"\n",
    ")\n",
    "predictions = cross_val_predict(model, X=X2, y=y2, cv=10)\n",
    "sns.scatterplot(y=np.exp(predictions)*1000, x=np.exp(y2)*1000)\n",
    "print(mean_squared_error(np.exp(y2)*1000, np.exp(predictions)*1000, squared=False))"
   ]
  },
  {
   "cell_type": "code",
   "execution_count": 28,
   "metadata": {},
   "outputs": [
    {
     "data": {
      "text/plain": [
       "<AxesSubplot: xlabel='ExpectedSeverity', ylabel='Count'>"
      ]
     },
     "execution_count": 28,
     "metadata": {},
     "output_type": "execute_result"
    },
    {
     "data": {
      "image/png": "[encoded data removed]",
      "text/plain": [
       "<Figure size 640x480 with 1 Axes>"
      ]
     },
     "metadata": {},
     "output_type": "display_data"
    }
   ],
   "source": [
    "sns.histplot(np.exp(y2)*1000)"
   ]
  },
  {
   "cell_type": "code",
   "execution_count": 53,
   "metadata": {},
   "outputs": [
    {
     "data": {
      "text/plain": [
       "<AxesSubplot: ylabel='Count'>"
      ]
     },
     "execution_count": 53,
     "metadata": {},
     "output_type": "execute_result"
    },
    {
     "data": {
      "image/png": "[encoded data removed]",
      "text/plain": [
       "<Figure size 640x480 with 1 Axes>"
      ]
     },
     "metadata": {},
     "output_type": "display_data"
    }
   ],
   "source": [
    "sns.histplot(np.exp(predictions)*1000)"
   ]
  },
  {
   "cell_type": "code",
   "execution_count": 57,
   "metadata": {},
   "outputs": [
    {
     "data": {
      "text/html": [
       "<style>#sk-container-id-4 {color: black;background-color: white;}#sk-container-id-4 pre{padding: 0;}#sk-container-id-4 div.sk-toggleable {background-color: white;}#sk-container-id-4 label.sk-toggleable__label {cursor: pointer;display: block;width: 100%;margin-bottom: 0;padding: 0.3em;box-sizing: border-box;text-align: center;}#sk-container-id-4 label.sk-toggleable__label-arrow:before {content: \"▸\";float: left;margin-right: 0.25em;color: #696969;}#sk-container-id-4 label.sk-toggleable__label-arrow:hover:before {color: black;}#sk-container-id-4 div.sk-estimator:hover label.sk-toggleable__label-arrow:before {color: black;}#sk-container-id-4 div.sk-toggleable__content {max-height: 0;max-width: 0;overflow: hidden;text-align: left;background-color: #f0f8ff;}#sk-container-id-4 div.sk-toggleable__content pre {margin: 0.2em;color: black;border-radius: 0.25em;background-color: #f0f8ff;}#sk-container-id-4 input.sk-toggleable__control:checked~div.sk-toggleable__content {max-height: 200px;max-width: 100%;overflow: auto;}#sk-container-id-4 input.sk-toggleable__control:checked~label.sk-toggleable__label-arrow:before {content: \"▾\";}#sk-container-id-4 div.sk-estimator input.sk-toggleable__control:checked~label.sk-toggleable__label {background-color: #d4ebff;}#sk-container-id-4 div.sk-label input.sk-toggleable__control:checked~label.sk-toggleable__label {background-color: #d4ebff;}#sk-container-id-4 input.sk-hidden--visually {border: 0;clip: rect(1px 1px 1px 1px);clip: rect(1px, 1px, 1px, 1px);height: 1px;margin: -1px;overflow: hidden;padding: 0;position: absolute;width: 1px;}#sk-container-id-4 div.sk-estimator {font-family: monospace;background-color: #f0f8ff;border: 1px dotted black;border-radius: 0.25em;box-sizing: border-box;margin-bottom: 0.5em;}#sk-container-id-4 div.sk-estimator:hover {background-color: #d4ebff;}#sk-container-id-4 div.sk-parallel-item::after {content: \"\";width: 100%;border-bottom: 1px solid gray;flex-grow: 1;}#sk-container-id-4 div.sk-label:hover label.sk-toggleable__label {background-color: #d4ebff;}#sk-container-id-4 div.sk-serial::before {content: \"\";position: absolute;border-left: 1px solid gray;box-sizing: border-box;top: 0;bottom: 0;left: 50%;z-index: 0;}#sk-container-id-4 div.sk-serial {display: flex;flex-direction: column;align-items: center;background-color: white;padding-right: 0.2em;padding-left: 0.2em;position: relative;}#sk-container-id-4 div.sk-item {position: relative;z-index: 1;}#sk-container-id-4 div.sk-parallel {display: flex;align-items: stretch;justify-content: center;background-color: white;position: relative;}#sk-container-id-4 div.sk-item::before, #sk-container-id-4 div.sk-parallel-item::before {content: \"\";position: absolute;border-left: 1px solid gray;box-sizing: border-box;top: 0;bottom: 0;left: 50%;z-index: -1;}#sk-container-id-4 div.sk-parallel-item {display: flex;flex-direction: column;z-index: 1;position: relative;background-color: white;}#sk-container-id-4 div.sk-parallel-item:first-child::after {align-self: flex-end;width: 50%;}#sk-container-id-4 div.sk-parallel-item:last-child::after {align-self: flex-start;width: 50%;}#sk-container-id-4 div.sk-parallel-item:only-child::after {width: 0;}#sk-container-id-4 div.sk-dashed-wrapped {border: 1px dashed gray;margin: 0 0.4em 0.5em 0.4em;box-sizing: border-box;padding-bottom: 0.4em;background-color: white;}#sk-container-id-4 div.sk-label label {font-family: monospace;font-weight: bold;display: inline-block;line-height: 1.2em;}#sk-container-id-4 div.sk-label-container {text-align: center;}#sk-container-id-4 div.sk-container {/* jupyter's `normalize.less` sets `[hidden] { display: none; }` but bootstrap.min.css set `[hidden] { display: none !important; }` so we also need the `!important` here to be able to override the default hidden behavior on the sphinx rendered scikit-learn.org. See: https://github.com/scikit-learn/scikit-learn/issues/21755 */display: inline-block !important;position: relative;}#sk-container-id-4 div.sk-text-repr-fallback {display: none;}</style><div id=\"sk-container-id-4\" class=\"sk-top-container\"><div class=\"sk-text-repr-fallback\"><pre>XGBRegressor(base_score=None, booster=None, callbacks=None,\n",
       "             colsample_bylevel=None, colsample_bynode=None,\n",
       "             colsample_bytree=0.95, early_stopping_rounds=None,\n",
       "             enable_categorical=True, eval_metric=None, feature_types=None,\n",
       "             gamma=None, gpu_id=None, grow_policy=None, importance_type=None,\n",
       "             interaction_constraints=None, learning_rate=0.1, max_bin=None,\n",
       "             max_cat_threshold=None, max_cat_to_onehot=None,\n",
       "             max_delta_step=None, max_depth=20, max_leaves=None,\n",
       "             min_child_weight=None, missing=nan, monotone_constraints=None,\n",
       "             n_estimators=200, n_jobs=None, num_parallel_tree=None,\n",
       "             predictor=None, random_state=1, ...)</pre><b>In a Jupyter environment, please rerun this cell to show the HTML representation or trust the notebook. <br />On GitHub, the HTML representation is unable to render, please try loading this page with nbviewer.org.</b></div><div class=\"sk-container\" hidden><div class=\"sk-item\"><div class=\"sk-estimator sk-toggleable\"><input class=\"sk-toggleable__control sk-hidden--visually\" id=\"sk-estimator-id-4\" type=\"checkbox\" checked><label for=\"sk-estimator-id-4\" class=\"sk-toggleable__label sk-toggleable__label-arrow\">XGBRegressor</label><div class=\"sk-toggleable__content\"><pre>XGBRegressor(base_score=None, booster=None, callbacks=None,\n",
       "             colsample_bylevel=None, colsample_bynode=None,\n",
       "             colsample_bytree=0.95, early_stopping_rounds=None,\n",
       "             enable_categorical=True, eval_metric=None, feature_types=None,\n",
       "             gamma=None, gpu_id=None, grow_policy=None, importance_type=None,\n",
       "             interaction_constraints=None, learning_rate=0.1, max_bin=None,\n",
       "             max_cat_threshold=None, max_cat_to_onehot=None,\n",
       "             max_delta_step=None, max_depth=20, max_leaves=None,\n",
       "             min_child_weight=None, missing=nan, monotone_constraints=None,\n",
       "             n_estimators=200, n_jobs=None, num_parallel_tree=None,\n",
       "             predictor=None, random_state=1, ...)</pre></div></div></div></div></div>"
      ],
      "text/plain": [
       "XGBRegressor(base_score=None, booster=None, callbacks=None,\n",
       "             colsample_bylevel=None, colsample_bynode=None,\n",
       "             colsample_bytree=0.95, early_stopping_rounds=None,\n",
       "             enable_categorical=True, eval_metric=None, feature_types=None,\n",
       "             gamma=None, gpu_id=None, grow_policy=None, importance_type=None,\n",
       "             interaction_constraints=None, learning_rate=0.1, max_bin=None,\n",
       "             max_cat_threshold=None, max_cat_to_onehot=None,\n",
       "             max_delta_step=None, max_depth=20, max_leaves=None,\n",
       "             min_child_weight=None, missing=nan, monotone_constraints=None,\n",
       "             n_estimators=200, n_jobs=None, num_parallel_tree=None,\n",
       "             predictor=None, random_state=1, ...)"
      ]
     },
     "execution_count": 57,
     "metadata": {},
     "output_type": "execute_result"
    }
   ],
   "source": [
    "# Train final model on whole dataset\n",
    "model_xgb_2 = XGBRegressor(\n",
    "    random_state=1, n_estimators=200, learning_rate=0.1, max_depth=20, subsample=0.6, colsample_bytree=0.95, enable_categorical=True, tree_method=\"hist\"\n",
    ")\n",
    "model_xgb_2.fit(X2, y2)"
   ]
  },
  {
   "attachments": {},
   "cell_type": "markdown",
   "metadata": {},
   "source": [
    "### Inference"
   ]
  },
  {
   "attachments": {},
   "cell_type": "markdown",
   "metadata": {},
   "source": [
    "### Constants"
   ]
  },
  {
   "cell_type": "code",
   "execution_count": 31,
   "metadata": {},
   "outputs": [],
   "source": [
    "loss_allocated_expense = 0.2\n",
    "fixed_expense = 500\n",
    "variable_expense = 0.4"
   ]
  },
  {
   "cell_type": "code",
   "execution_count": 46,
   "metadata": {},
   "outputs": [],
   "source": [
    "def calculate_premium(profit_loading, model1, model2, data):\n",
    "    # Profit loading can vary from 0 to 0.6, default is 0.3\n",
    "    X = data.to_numpy()\n",
    "    num_claims = model1.predict(X)\n",
    "    # Number of claims cannot be zero\n",
    "    num_claims = np.abs(num_claims)\n",
    "    expected_severity = model2.predict(X)\n",
    "    # Inverse transform\n",
    "    expected_severity = np.exp(expected_severity) * 1000\n",
    "    premium = (num_claims * expected_severity * (1 - loss_allocated_expense) + fixed_expense) / (1 - variable_expense - profit_loading)\n",
    "    premium = premium.round(2)\n",
    "    return num_claims, expected_severity, premium"
   ]
  },
  {
   "cell_type": "code",
   "execution_count": 58,
   "metadata": {},
   "outputs": [
    {
     "name": "stdout",
     "output_type": "stream",
     "text": [
      "set()\n"
     ]
    },
    {
     "data": {
      "text/html": [
       "<div>\n",
       "<style scoped>\n",
       "    .dataframe tbody tr th:only-of-type {\n",
       "        vertical-align: middle;\n",
       "    }\n",
       "\n",
       "    .dataframe tbody tr th {\n",
       "        vertical-align: top;\n",
       "    }\n",
       "\n",
       "    .dataframe thead th {\n",
       "        text-align: right;\n",
       "    }\n",
       "</style>\n",
       "<table border=\"1\" class=\"dataframe\">\n",
       "  <thead>\n",
       "    <tr style=\"text-align: right;\">\n",
       "      <th></th>\n",
       "      <th>BusinessID</th>\n",
       "      <th>Latitude</th>\n",
       "      <th>Longitude</th>\n",
       "      <th>AmountOfInsurance</th>\n",
       "      <th>Earnings</th>\n",
       "      <th>BusinessTypeCode</th>\n",
       "      <th>AddressCode</th>\n",
       "      <th>ClusterCode</th>\n",
       "    </tr>\n",
       "  </thead>\n",
       "  <tbody>\n",
       "    <tr>\n",
       "      <th>0</th>\n",
       "      <td>00003A17</td>\n",
       "      <td>43.54</td>\n",
       "      <td>-80.26</td>\n",
       "      <td>6.635815</td>\n",
       "      <td>4.770685</td>\n",
       "      <td>25</td>\n",
       "      <td>0</td>\n",
       "      <td>0</td>\n",
       "    </tr>\n",
       "    <tr>\n",
       "      <th>1</th>\n",
       "      <td>00003A35</td>\n",
       "      <td>43.82</td>\n",
       "      <td>-79.27</td>\n",
       "      <td>6.220789</td>\n",
       "      <td>5.170484</td>\n",
       "      <td>4</td>\n",
       "      <td>4</td>\n",
       "      <td>4</td>\n",
       "    </tr>\n",
       "    <tr>\n",
       "      <th>2</th>\n",
       "      <td>0006A149</td>\n",
       "      <td>43.94</td>\n",
       "      <td>-79.97</td>\n",
       "      <td>6.511151</td>\n",
       "      <td>5.817111</td>\n",
       "      <td>9</td>\n",
       "      <td>0</td>\n",
       "      <td>0</td>\n",
       "    </tr>\n",
       "    <tr>\n",
       "      <th>3</th>\n",
       "      <td>0000A221</td>\n",
       "      <td>45.38</td>\n",
       "      <td>-75.81</td>\n",
       "      <td>7.086320</td>\n",
       "      <td>5.429346</td>\n",
       "      <td>29</td>\n",
       "      <td>1</td>\n",
       "      <td>1</td>\n",
       "    </tr>\n",
       "    <tr>\n",
       "      <th>4</th>\n",
       "      <td>0001A225</td>\n",
       "      <td>42.86</td>\n",
       "      <td>-80.70</td>\n",
       "      <td>6.271933</td>\n",
       "      <td>5.347108</td>\n",
       "      <td>28</td>\n",
       "      <td>0</td>\n",
       "      <td>0</td>\n",
       "    </tr>\n",
       "    <tr>\n",
       "      <th>...</th>\n",
       "      <td>...</td>\n",
       "      <td>...</td>\n",
       "      <td>...</td>\n",
       "      <td>...</td>\n",
       "      <td>...</td>\n",
       "      <td>...</td>\n",
       "      <td>...</td>\n",
       "      <td>...</td>\n",
       "    </tr>\n",
       "    <tr>\n",
       "      <th>2716</th>\n",
       "      <td>3A249510</td>\n",
       "      <td>43.53</td>\n",
       "      <td>-79.84</td>\n",
       "      <td>5.625461</td>\n",
       "      <td>4.382027</td>\n",
       "      <td>18</td>\n",
       "      <td>0</td>\n",
       "      <td>0</td>\n",
       "    </tr>\n",
       "    <tr>\n",
       "      <th>2717</th>\n",
       "      <td>6A249645</td>\n",
       "      <td>44.75</td>\n",
       "      <td>-79.71</td>\n",
       "      <td>5.938591</td>\n",
       "      <td>4.682131</td>\n",
       "      <td>1</td>\n",
       "      <td>0</td>\n",
       "      <td>0</td>\n",
       "    </tr>\n",
       "    <tr>\n",
       "      <th>2718</th>\n",
       "      <td>1A249679</td>\n",
       "      <td>45.48</td>\n",
       "      <td>-73.45</td>\n",
       "      <td>6.107691</td>\n",
       "      <td>4.812184</td>\n",
       "      <td>3</td>\n",
       "      <td>0</td>\n",
       "      <td>0</td>\n",
       "    </tr>\n",
       "    <tr>\n",
       "      <th>2719</th>\n",
       "      <td>8A249755</td>\n",
       "      <td>43.89</td>\n",
       "      <td>-81.29</td>\n",
       "      <td>6.226734</td>\n",
       "      <td>4.624973</td>\n",
       "      <td>1</td>\n",
       "      <td>0</td>\n",
       "      <td>0</td>\n",
       "    </tr>\n",
       "    <tr>\n",
       "      <th>2720</th>\n",
       "      <td>3A249812</td>\n",
       "      <td>43.77</td>\n",
       "      <td>-79.32</td>\n",
       "      <td>6.422435</td>\n",
       "      <td>5.068904</td>\n",
       "      <td>23</td>\n",
       "      <td>9</td>\n",
       "      <td>9</td>\n",
       "    </tr>\n",
       "  </tbody>\n",
       "</table>\n",
       "<p>2721 rows × 8 columns</p>\n",
       "</div>"
      ],
      "text/plain": [
       "     BusinessID  Latitude  Longitude  AmountOfInsurance  Earnings  \\\n",
       "0      00003A17     43.54     -80.26           6.635815  4.770685   \n",
       "1      00003A35     43.82     -79.27           6.220789  5.170484   \n",
       "2      0006A149     43.94     -79.97           6.511151  5.817111   \n",
       "3      0000A221     45.38     -75.81           7.086320  5.429346   \n",
       "4      0001A225     42.86     -80.70           6.271933  5.347108   \n",
       "...         ...       ...        ...                ...       ...   \n",
       "2716   3A249510     43.53     -79.84           5.625461  4.382027   \n",
       "2717   6A249645     44.75     -79.71           5.938591  4.682131   \n",
       "2718   1A249679     45.48     -73.45           6.107691  4.812184   \n",
       "2719   8A249755     43.89     -81.29           6.226734  4.624973   \n",
       "2720   3A249812     43.77     -79.32           6.422435  5.068904   \n",
       "\n",
       "     BusinessTypeCode AddressCode ClusterCode  \n",
       "0                  25           0           0  \n",
       "1                   4           4           4  \n",
       "2                   9           0           0  \n",
       "3                  29           1           1  \n",
       "4                  28           0           0  \n",
       "...               ...         ...         ...  \n",
       "2716               18           0           0  \n",
       "2717                1           0           0  \n",
       "2718                3           0           0  \n",
       "2719                1           0           0  \n",
       "2720               23           9           9  \n",
       "\n",
       "[2721 rows x 8 columns]"
      ]
     },
     "execution_count": 58,
     "metadata": {},
     "output_type": "execute_result"
    }
   ],
   "source": [
    "test_claims_df = pd.read_csv(\"potential_clients.csv\")\n",
    "test_claims_df = test_claims_df.drop(columns=[\"premium_charged\"])\n",
    "# Sanity check: There are no new businesses in test claims data\n",
    "a = set(policies_df.BusinessID)\n",
    "b = set(test_claims_df.BusinessID)\n",
    "print(b - a)\n",
    "test_consolidated_df = test_claims_df.merge(policies_df, on=\"BusinessID\", how=\"left\")\n",
    "test_consolidated_df"
   ]
  },
  {
   "cell_type": "code",
   "execution_count": 35,
   "metadata": {},
   "outputs": [],
   "source": [
    "# # Predict GeoClusterCode for test data\n",
    "# # DBSCAN can generate non-convex cluster and it cannot predict unseen points, however, I take motivation from below link to find nearest centroid for cluster membership prediction\n",
    "# # https://geoffboeing.com/2014/08/clustering-to-reduce-spatial-data-set-size/\n",
    "# # NOTE: I know this is NOT ideal but I am thinking this as an approximation\n",
    "# cluster_to_idx = defaultdict(list)\n",
    "# for idx, cluster in enumerate(db.labels_):\n",
    "#     cluster_to_idx[cluster].append(idx)\n",
    "# cluster_centroids = np.zeros((len(cluster_to_idx), 2))\n",
    "# for cluster in range(len(cluster_to_idx)):\n",
    "#     cluster_centroids[cluster] = coords[cluster_to_idx[cluster]].mean(axis=0)\n",
    "# cluster_centroids\n",
    "\n",
    "# test_coords = np.radians(test_consolidated_df[[\"Latitude\", \"Longitude\"]].to_numpy())\n",
    "# test_consolidated_df[\"GeoClusterCode\"] = np.argmin(haversine_distances(test_coords, cluster_centroids), axis=1)\n",
    "\n",
    "# # One hot encoding of geo cluster\n",
    "# geocluster_codes = test_consolidated_df.GeoClusterCode.copy()\n",
    "# test_consolidated_df = pd.get_dummies(test_consolidated_df, columns=[\"GeoClusterCode\"])\n",
    "# test_consolidated_df[\"GeoClusterCode\"] = geocluster_codes\n",
    "\n",
    "# # Add geo clusters which were not predicted\n",
    "# for cluster in (set(range(len(cluster_to_idx))) - set(geocluster_codes)):\n",
    "#     test_consolidated_df[f\"GeoClusterCode_{cluster}\"] = 0\n",
    "\n",
    "# sns.scatterplot(test_consolidated_df, x=\"Longitude\", y=\"Latitude\", hue=\"GeoClusterCode\", palette=\"turbo\")"
   ]
  },
  {
   "cell_type": "code",
   "execution_count": null,
   "metadata": {},
   "outputs": [],
   "source": [
    "# test_consolidated_df = test_consolidated_df.drop(columns=[\"BusinessID\", \"BusinessTypeCode\", \"AddressCode\"])\n",
    "# test_consolidated_df"
   ]
  },
  {
   "cell_type": "code",
   "execution_count": 59,
   "metadata": {},
   "outputs": [],
   "source": [
    "test_consolidated_df = test_consolidated_df.drop(columns=[\"BusinessID\"])"
   ]
  },
  {
   "cell_type": "code",
   "execution_count": 60,
   "metadata": {},
   "outputs": [
    {
     "data": {
      "text/plain": [
       "Latitude              float64\n",
       "Longitude             float64\n",
       "AmountOfInsurance     float64\n",
       "Earnings              float64\n",
       "BusinessTypeCode     category\n",
       "AddressCode          category\n",
       "ClusterCode          category\n",
       "dtype: object"
      ]
     },
     "execution_count": 60,
     "metadata": {},
     "output_type": "execute_result"
    }
   ],
   "source": [
    "test_consolidated_df.dtypes"
   ]
  },
  {
   "attachments": {},
   "cell_type": "markdown",
   "metadata": {},
   "source": [
    "#### Use fake data to determine `profit_loading`"
   ]
  },
  {
   "cell_type": "code",
   "execution_count": null,
   "metadata": {},
   "outputs": [],
   "source": [
    "# fake_data = pd.read_csv(\"fake_data.csv\")\n",
    "# fake_data[\"ExpectedSeverity\"] = fake_data.ExpectedSeverity.fillna(0.0)\n",
    "# fake_data"
   ]
  },
  {
   "cell_type": "code",
   "execution_count": 57,
   "metadata": {},
   "outputs": [
    {
     "data": {
      "text/plain": [
       "array([     0.        ,      0.        ,      0.        , ...,\n",
       "        54556.9513341 , 141752.66471758, 169141.52596491])"
      ]
     },
     "execution_count": 57,
     "metadata": {},
     "output_type": "execute_result"
    }
   ],
   "source": [
    "# claim_amounts = np.array(fake_data.NumClaims * np.exp(fake_data.ExpectedSeverity)*1000)\n",
    "# claim_amounts"
   ]
  },
  {
   "cell_type": "code",
   "execution_count": null,
   "metadata": {},
   "outputs": [],
   "source": [
    "# # One hot encoding\n",
    "# fake_data = pd.get_dummies(fake_data, columns=[\"BusinessTypeCode\"])\n",
    "\n",
    "# # One hot encoding\n",
    "# fake_data = pd.get_dummies(fake_data, columns=[\"AddressCode\"])\n",
    "\n",
    "# fake_data = fake_data.drop(columns=[\"NumClaims\", \"ExpectedSeverity\"])\n",
    "\n",
    "# fake_data"
   ]
  },
  {
   "cell_type": "code",
   "execution_count": null,
   "metadata": {},
   "outputs": [],
   "source": [
    "# fake_data.columns.values.tolist()"
   ]
  },
  {
   "cell_type": "code",
   "execution_count": null,
   "metadata": {},
   "outputs": [],
   "source": [
    "# premiums = calculate_premium(profit_loading=0.3, model1=model_xgb_1, model2=model_xgb_2, data=fake_data)\n",
    "# premiums"
   ]
  },
  {
   "cell_type": "code",
   "execution_count": null,
   "metadata": {},
   "outputs": [],
   "source": [
    "# pd.Series(premiums).describe()"
   ]
  },
  {
   "cell_type": "code",
   "execution_count": null,
   "metadata": {},
   "outputs": [],
   "source": [
    "# sns.histplot(premiums)"
   ]
  },
  {
   "cell_type": "code",
   "execution_count": null,
   "metadata": {},
   "outputs": [],
   "source": [
    "# pd.Series(claim_amounts).describe()"
   ]
  },
  {
   "cell_type": "code",
   "execution_count": null,
   "metadata": {},
   "outputs": [],
   "source": [
    "# sns.histplot(claim_amounts)"
   ]
  },
  {
   "cell_type": "code",
   "execution_count": null,
   "metadata": {},
   "outputs": [],
   "source": [
    "# # Profit from fake_data (in millions) assuming I get all the customers\n",
    "# for profit_loading_value in (0.1, 0.2, 0.3, 0.4, 0.5):\n",
    "#     premiums = calculate_premium(profit_loading=profit_loading_value, model1=model_xgb_1, model2=model_xgb_2, data=fake_data)\n",
    "#     print(f\"Profit loading value: {profit_loading_value}, profit in millions: {np.sum(premiums - claim_amounts) / 1e6}\")"
   ]
  },
  {
   "attachments": {},
   "cell_type": "markdown",
   "metadata": {},
   "source": [
    "### Create output"
   ]
  },
  {
   "cell_type": "code",
   "execution_count": 61,
   "metadata": {},
   "outputs": [],
   "source": [
    "# model1 -> frequency\n",
    "# model2 -> severity\n",
    "num_claims, expected_severity, premium = calculate_premium(profit_loading=0.3, model1=model_xgb_1, model2=model_xgb_2, data=test_consolidated_df)\n",
    "test_claims_df[\"NumClaims\"] = num_claims\n",
    "test_claims_df[\"ExpectedSeverity\"] = expected_severity\n",
    "test_claims_df[\"premium_charged\"] = premium\n",
    "test_claims_df.to_csv(\"potential_clients_prediction.csv\", index=False, columns=[\"BusinessID\", \"premium_charged\"])"
   ]
  },
  {
   "cell_type": "code",
   "execution_count": 62,
   "metadata": {},
   "outputs": [
    {
     "data": {
      "text/html": [
       "<div>\n",
       "<style scoped>\n",
       "    .dataframe tbody tr th:only-of-type {\n",
       "        vertical-align: middle;\n",
       "    }\n",
       "\n",
       "    .dataframe tbody tr th {\n",
       "        vertical-align: top;\n",
       "    }\n",
       "\n",
       "    .dataframe thead th {\n",
       "        text-align: right;\n",
       "    }\n",
       "</style>\n",
       "<table border=\"1\" class=\"dataframe\">\n",
       "  <thead>\n",
       "    <tr style=\"text-align: right;\">\n",
       "      <th></th>\n",
       "      <th>NumClaims</th>\n",
       "      <th>ExpectedSeverity</th>\n",
       "      <th>premium_charged</th>\n",
       "    </tr>\n",
       "  </thead>\n",
       "  <tbody>\n",
       "    <tr>\n",
       "      <th>count</th>\n",
       "      <td>2721.000000</td>\n",
       "      <td>2.721000e+03</td>\n",
       "      <td>2.721000e+03</td>\n",
       "    </tr>\n",
       "    <tr>\n",
       "      <th>mean</th>\n",
       "      <td>0.040643</td>\n",
       "      <td>2.231204e+05</td>\n",
       "      <td>2.879398e+04</td>\n",
       "    </tr>\n",
       "    <tr>\n",
       "      <th>std</th>\n",
       "      <td>0.181948</td>\n",
       "      <td>1.534557e+05</td>\n",
       "      <td>1.668767e+05</td>\n",
       "    </tr>\n",
       "    <tr>\n",
       "      <th>min</th>\n",
       "      <td>0.000001</td>\n",
       "      <td>6.883465e+03</td>\n",
       "      <td>1.666930e+03</td>\n",
       "    </tr>\n",
       "    <tr>\n",
       "      <th>25%</th>\n",
       "      <td>0.001578</td>\n",
       "      <td>1.134282e+05</td>\n",
       "      <td>2.319520e+03</td>\n",
       "    </tr>\n",
       "    <tr>\n",
       "      <th>50%</th>\n",
       "      <td>0.003785</td>\n",
       "      <td>1.864218e+05</td>\n",
       "      <td>3.472730e+03</td>\n",
       "    </tr>\n",
       "    <tr>\n",
       "      <th>75%</th>\n",
       "      <td>0.008042</td>\n",
       "      <td>2.893417e+05</td>\n",
       "      <td>6.098750e+03</td>\n",
       "    </tr>\n",
       "    <tr>\n",
       "      <th>max</th>\n",
       "      <td>1.930530</td>\n",
       "      <td>1.177807e+06</td>\n",
       "      <td>2.805659e+06</td>\n",
       "    </tr>\n",
       "  </tbody>\n",
       "</table>\n",
       "</div>"
      ],
      "text/plain": [
       "         NumClaims  ExpectedSeverity  premium_charged\n",
       "count  2721.000000      2.721000e+03     2.721000e+03\n",
       "mean      0.040643      2.231204e+05     2.879398e+04\n",
       "std       0.181948      1.534557e+05     1.668767e+05\n",
       "min       0.000001      6.883465e+03     1.666930e+03\n",
       "25%       0.001578      1.134282e+05     2.319520e+03\n",
       "50%       0.003785      1.864218e+05     3.472730e+03\n",
       "75%       0.008042      2.893417e+05     6.098750e+03\n",
       "max       1.930530      1.177807e+06     2.805659e+06"
      ]
     },
     "execution_count": 62,
     "metadata": {},
     "output_type": "execute_result"
    }
   ],
   "source": [
    "test_claims_df.describe()"
   ]
  },
  {
   "cell_type": "code",
   "execution_count": 69,
   "metadata": {},
   "outputs": [
    {
     "data": {
      "text/plain": [
       "<AxesSubplot: xlabel='premium_charged', ylabel='Count'>"
      ]
     },
     "execution_count": 69,
     "metadata": {},
     "output_type": "execute_result"
    },
    {
     "data": {
      "image/png": "[encoded data removed]",
      "text/plain": [
       "<Figure size 640x480 with 1 Axes>"
      ]
     },
     "metadata": {},
     "output_type": "display_data"
    }
   ],
   "source": [
    "plt.xlim(0, 100e3)\n",
    "sns.histplot(test_claims_df.premium_charged)"
   ]
  },
  {
   "cell_type": "code",
   "execution_count": 67,
   "metadata": {},
   "outputs": [
    {
     "data": {
      "text/plain": [
       "<AxesSubplot: xlabel='NumClaims', ylabel='Count'>"
      ]
     },
     "execution_count": 67,
     "metadata": {},
     "output_type": "execute_result"
    },
    {
     "data": {
      "image/png": "[encoded data removed]",
      "text/plain": [
       "<Figure size 640x480 with 1 Axes>"
      ]
     },
     "metadata": {},
     "output_type": "display_data"
    }
   ],
   "source": [
    "sns.histplot(test_claims_df.NumClaims)"
   ]
  },
  {
   "cell_type": "code",
   "execution_count": 65,
   "metadata": {},
   "outputs": [
    {
     "data": {
      "text/plain": [
       "<AxesSubplot: xlabel='ExpectedSeverity', ylabel='Count'>"
      ]
     },
     "execution_count": 65,
     "metadata": {},
     "output_type": "execute_result"
    },
    {
     "data": {
      "image/png": "[encoded data removed]",
      "text/plain": [
       "<Figure size 640x480 with 1 Axes>"
      ]
     },
     "metadata": {},
     "output_type": "display_data"
    }
   ],
   "source": [
    "sns.histplot(test_claims_df.ExpectedSeverity)"
   ]
  },
  {
   "cell_type": "code",
   "execution_count": 39,
   "metadata": {},
   "outputs": [
    {
     "data": {
      "text/plain": [
       "<AxesSubplot: xlabel='ClaimAmount', ylabel='Count'>"
      ]
     },
     "execution_count": 39,
     "metadata": {},
     "output_type": "execute_result"
    },
    {
     "data": {
      "image/png": "[encoded data removed]",
      "text/plain": [
       "<Figure size 640x480 with 1 Axes>"
      ]
     },
     "metadata": {},
     "output_type": "display_data"
    }
   ],
   "source": [
    "sns.histplot(claims_df.ClaimAmount)"
   ]
  }
 ],
 "metadata": {
  "kernelspec": {
   "display_name": "vanilla",
   "language": "python",
   "name": "python3"
  },
  "language_info": {
   "codemirror_mode": {
    "name": "ipython",
    "version": 3
   },
   "file_extension": ".py",
   "mimetype": "text/x-python",
   "name": "python",
   "nbconvert_exporter": "python",
   "pygments_lexer": "ipython3",
   "version": "3.8.0"
  },
  "orig_nbformat": 4,
  "vscode": {
   "interpreter": {
    "hash": "e79bffa39ae3b34dd6a67cfb7a86efb7a981f71c16a69aea29c61b44b39f0d36"
   }
  }
 },
 "nbformat": 4,
 "nbformat_minor": 2
}
